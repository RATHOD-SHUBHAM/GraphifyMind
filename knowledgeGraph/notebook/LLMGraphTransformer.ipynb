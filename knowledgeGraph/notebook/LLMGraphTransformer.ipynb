{
  "nbformat": 4,
  "nbformat_minor": 0,
  "metadata": {
    "colab": {
      "provenance": []
    },
    "kernelspec": {
      "name": "python3",
      "display_name": "Python 3"
    },
    "language_info": {
      "name": "python"
    }
  },
  "cells": [
    {
      "cell_type": "markdown",
      "source": [
        "# LLMGraphTransformer\n",
        "\n",
        "https://python.langchain.com/api_reference/experimental/graph_transformers/langchain_experimental.graph_transformers.llm.LLMGraphTransformer.html\n",
        "\n",
        "\n",
        "\n",
        "Parameters:\n",
        "\n",
        "llm (BaseLanguageModel) – An instance of a language model supporting structured output.\n",
        "\n",
        "allowed_nodes (List[str], optional) – Specifies which node types are allowed in the graph. Defaults to an empty list, allowing all node types.\n",
        "\n",
        "allowed_relationships (List[str], optional) – Specifies which relationship types are allowed in the graph. Defaults to an empty list, allowing all relationship types.\n",
        "\n",
        "prompt (Optional[ChatPromptTemplate], optional) – The prompt to pass to the LLM with additional instructions.\n",
        "\n",
        "strict_mode (bool, optional) – Determines whether the transformer should apply filtering to strictly adhere to allowed_nodes and allowed_relationships. Defaults to True.\n",
        "\n",
        "node_properties (Union[bool, List[str]]) – If True, the LLM can extract any node properties from text. Alternatively, a list of valid properties can be provided for the LLM to extract, restricting extraction to those specified.\n",
        "\n",
        "relationship_properties (Union[bool, List[str]]) – If True, the LLM can extract any relationship properties from text. Alternatively, a list of valid properties can be provided for the LLM to extract, restricting extraction to those specified.\n",
        "\n",
        "ignore_tool_usage (bool) – Indicates whether the transformer should bypass the use of structured output functionality of the language model. If set to True, the transformer will not use the language model’s native function calling capabilities to handle structured output. Defaults to False.\n",
        "\n",
        "additional_instructions (str) – Allows you to add additional instructions to the prompt without having to change the whole prompt.\n",
        "\n",
        "\n",
        "https://github.com/thu-vu92/knowledge-graph-llms/blob/main/knowledge_graph.ipynb\n"
      ],
      "metadata": {
        "id": "sz9wjDowBBQh"
      }
    },
    {
      "cell_type": "code",
      "source": [],
      "metadata": {
        "id": "IvucvtXeBMyX"
      },
      "execution_count": null,
      "outputs": []
    },
    {
      "cell_type": "code",
      "execution_count": 1,
      "metadata": {
        "colab": {
          "base_uri": "https://localhost:8080/"
        },
        "id": "Zqvzrtyv9dAm",
        "outputId": "4f890ced-e0b6-4814-81c3-0854f9a2dea8"
      },
      "outputs": [
        {
          "output_type": "stream",
          "name": "stdout",
          "text": [
            "Requirement already satisfied: langchain in /usr/local/lib/python3.11/dist-packages (0.3.26)\n",
            "Requirement already satisfied: langchain-core in /usr/local/lib/python3.11/dist-packages (0.3.66)\n",
            "Collecting langchain-openai\n",
            "  Downloading langchain_openai-0.3.26-py3-none-any.whl.metadata (2.3 kB)\n",
            "Collecting pyvis\n",
            "  Downloading pyvis-0.3.2-py3-none-any.whl.metadata (1.7 kB)\n",
            "Collecting langchain-neo4j\n",
            "  Downloading langchain_neo4j-0.4.0-py3-none-any.whl.metadata (4.5 kB)\n",
            "Collecting langchain-experimental\n",
            "  Downloading langchain_experimental-0.3.4-py3-none-any.whl.metadata (1.7 kB)\n",
            "Collecting neo4j\n",
            "  Downloading neo4j-5.28.1-py3-none-any.whl.metadata (5.9 kB)\n",
            "Requirement already satisfied: langchain-text-splitters<1.0.0,>=0.3.8 in /usr/local/lib/python3.11/dist-packages (from langchain) (0.3.8)\n",
            "Requirement already satisfied: langsmith>=0.1.17 in /usr/local/lib/python3.11/dist-packages (from langchain) (0.4.1)\n",
            "Requirement already satisfied: pydantic<3.0.0,>=2.7.4 in /usr/local/lib/python3.11/dist-packages (from langchain) (2.11.7)\n",
            "Requirement already satisfied: SQLAlchemy<3,>=1.4 in /usr/local/lib/python3.11/dist-packages (from langchain) (2.0.41)\n",
            "Requirement already satisfied: requests<3,>=2 in /usr/local/lib/python3.11/dist-packages (from langchain) (2.32.3)\n",
            "Requirement already satisfied: PyYAML>=5.3 in /usr/local/lib/python3.11/dist-packages (from langchain) (6.0.2)\n",
            "Requirement already satisfied: tenacity!=8.4.0,<10.0.0,>=8.1.0 in /usr/local/lib/python3.11/dist-packages (from langchain-core) (8.5.0)\n",
            "Requirement already satisfied: jsonpatch<2.0,>=1.33 in /usr/local/lib/python3.11/dist-packages (from langchain-core) (1.33)\n",
            "Requirement already satisfied: packaging<25,>=23.2 in /usr/local/lib/python3.11/dist-packages (from langchain-core) (24.2)\n",
            "Requirement already satisfied: typing-extensions>=4.7 in /usr/local/lib/python3.11/dist-packages (from langchain-core) (4.14.0)\n",
            "Requirement already satisfied: openai<2.0.0,>=1.86.0 in /usr/local/lib/python3.11/dist-packages (from langchain-openai) (1.91.0)\n",
            "Requirement already satisfied: tiktoken<1,>=0.7 in /usr/local/lib/python3.11/dist-packages (from langchain-openai) (0.9.0)\n",
            "Requirement already satisfied: ipython>=5.3.0 in /usr/local/lib/python3.11/dist-packages (from pyvis) (7.34.0)\n",
            "Requirement already satisfied: jinja2>=2.9.6 in /usr/local/lib/python3.11/dist-packages (from pyvis) (3.1.6)\n",
            "Requirement already satisfied: jsonpickle>=1.4.1 in /usr/local/lib/python3.11/dist-packages (from pyvis) (4.1.1)\n",
            "Requirement already satisfied: networkx>=1.11 in /usr/local/lib/python3.11/dist-packages (from pyvis) (3.5)\n",
            "Collecting neo4j-graphrag<2.0.0,>=1.5.0 (from langchain-neo4j)\n",
            "  Downloading neo4j_graphrag-1.7.0-py3-none-any.whl.metadata (18 kB)\n",
            "Collecting langchain-community<0.4.0,>=0.3.0 (from langchain-experimental)\n",
            "  Downloading langchain_community-0.3.26-py3-none-any.whl.metadata (2.9 kB)\n",
            "Requirement already satisfied: pytz in /usr/local/lib/python3.11/dist-packages (from neo4j) (2025.2)\n",
            "Requirement already satisfied: setuptools>=18.5 in /usr/local/lib/python3.11/dist-packages (from ipython>=5.3.0->pyvis) (75.2.0)\n",
            "Collecting jedi>=0.16 (from ipython>=5.3.0->pyvis)\n",
            "  Downloading jedi-0.19.2-py2.py3-none-any.whl.metadata (22 kB)\n",
            "Requirement already satisfied: decorator in /usr/local/lib/python3.11/dist-packages (from ipython>=5.3.0->pyvis) (4.4.2)\n",
            "Requirement already satisfied: pickleshare in /usr/local/lib/python3.11/dist-packages (from ipython>=5.3.0->pyvis) (0.7.5)\n",
            "Requirement already satisfied: traitlets>=4.2 in /usr/local/lib/python3.11/dist-packages (from ipython>=5.3.0->pyvis) (5.7.1)\n",
            "Requirement already satisfied: prompt-toolkit!=3.0.0,!=3.0.1,<3.1.0,>=2.0.0 in /usr/local/lib/python3.11/dist-packages (from ipython>=5.3.0->pyvis) (3.0.51)\n",
            "Requirement already satisfied: pygments in /usr/local/lib/python3.11/dist-packages (from ipython>=5.3.0->pyvis) (2.19.2)\n",
            "Requirement already satisfied: backcall in /usr/local/lib/python3.11/dist-packages (from ipython>=5.3.0->pyvis) (0.2.0)\n",
            "Requirement already satisfied: matplotlib-inline in /usr/local/lib/python3.11/dist-packages (from ipython>=5.3.0->pyvis) (0.1.7)\n",
            "Requirement already satisfied: pexpect>4.3 in /usr/local/lib/python3.11/dist-packages (from ipython>=5.3.0->pyvis) (4.9.0)\n",
            "Requirement already satisfied: MarkupSafe>=2.0 in /usr/local/lib/python3.11/dist-packages (from jinja2>=2.9.6->pyvis) (3.0.2)\n",
            "Requirement already satisfied: jsonpointer>=1.9 in /usr/local/lib/python3.11/dist-packages (from jsonpatch<2.0,>=1.33->langchain-core) (3.0.0)\n",
            "Requirement already satisfied: aiohttp<4.0.0,>=3.8.3 in /usr/local/lib/python3.11/dist-packages (from langchain-community<0.4.0,>=0.3.0->langchain-experimental) (3.11.15)\n",
            "Collecting dataclasses-json<0.7,>=0.5.7 (from langchain-community<0.4.0,>=0.3.0->langchain-experimental)\n",
            "  Downloading dataclasses_json-0.6.7-py3-none-any.whl.metadata (25 kB)\n",
            "Collecting pydantic-settings<3.0.0,>=2.4.0 (from langchain-community<0.4.0,>=0.3.0->langchain-experimental)\n",
            "  Downloading pydantic_settings-2.10.1-py3-none-any.whl.metadata (3.4 kB)\n",
            "Collecting httpx-sse<1.0.0,>=0.4.0 (from langchain-community<0.4.0,>=0.3.0->langchain-experimental)\n",
            "  Downloading httpx_sse-0.4.1-py3-none-any.whl.metadata (9.4 kB)\n",
            "Requirement already satisfied: numpy>=1.26.2 in /usr/local/lib/python3.11/dist-packages (from langchain-community<0.4.0,>=0.3.0->langchain-experimental) (2.0.2)\n",
            "Requirement already satisfied: httpx<1,>=0.23.0 in /usr/local/lib/python3.11/dist-packages (from langsmith>=0.1.17->langchain) (0.28.1)\n",
            "Requirement already satisfied: orjson<4.0.0,>=3.9.14 in /usr/local/lib/python3.11/dist-packages (from langsmith>=0.1.17->langchain) (3.10.18)\n",
            "Requirement already satisfied: requests-toolbelt<2.0.0,>=1.0.0 in /usr/local/lib/python3.11/dist-packages (from langsmith>=0.1.17->langchain) (1.0.0)\n",
            "Requirement already satisfied: zstandard<0.24.0,>=0.23.0 in /usr/local/lib/python3.11/dist-packages (from langsmith>=0.1.17->langchain) (0.23.0)\n",
            "Collecting fsspec<2025.0.0,>=2024.9.0 (from neo4j-graphrag<2.0.0,>=1.5.0->langchain-neo4j)\n",
            "  Downloading fsspec-2024.12.0-py3-none-any.whl.metadata (11 kB)\n",
            "Collecting json-repair<0.40.0,>=0.39.1 (from neo4j-graphrag<2.0.0,>=1.5.0->langchain-neo4j)\n",
            "  Downloading json_repair-0.39.1-py3-none-any.whl.metadata (11 kB)\n",
            "Collecting pypdf<6.0.0,>=5.1.0 (from neo4j-graphrag<2.0.0,>=1.5.0->langchain-neo4j)\n",
            "  Downloading pypdf-5.6.1-py3-none-any.whl.metadata (7.2 kB)\n",
            "Collecting types-pyyaml<7.0.0.0,>=6.0.12.20240917 (from neo4j-graphrag<2.0.0,>=1.5.0->langchain-neo4j)\n",
            "  Downloading types_pyyaml-6.0.12.20250516-py3-none-any.whl.metadata (1.8 kB)\n",
            "Requirement already satisfied: anyio<5,>=3.5.0 in /usr/local/lib/python3.11/dist-packages (from openai<2.0.0,>=1.86.0->langchain-openai) (4.9.0)\n",
            "Requirement already satisfied: distro<2,>=1.7.0 in /usr/local/lib/python3.11/dist-packages (from openai<2.0.0,>=1.86.0->langchain-openai) (1.9.0)\n",
            "Requirement already satisfied: jiter<1,>=0.4.0 in /usr/local/lib/python3.11/dist-packages (from openai<2.0.0,>=1.86.0->langchain-openai) (0.10.0)\n",
            "Requirement already satisfied: sniffio in /usr/local/lib/python3.11/dist-packages (from openai<2.0.0,>=1.86.0->langchain-openai) (1.3.1)\n",
            "Requirement already satisfied: tqdm>4 in /usr/local/lib/python3.11/dist-packages (from openai<2.0.0,>=1.86.0->langchain-openai) (4.67.1)\n",
            "Requirement already satisfied: annotated-types>=0.6.0 in /usr/local/lib/python3.11/dist-packages (from pydantic<3.0.0,>=2.7.4->langchain) (0.7.0)\n",
            "Requirement already satisfied: pydantic-core==2.33.2 in /usr/local/lib/python3.11/dist-packages (from pydantic<3.0.0,>=2.7.4->langchain) (2.33.2)\n",
            "Requirement already satisfied: typing-inspection>=0.4.0 in /usr/local/lib/python3.11/dist-packages (from pydantic<3.0.0,>=2.7.4->langchain) (0.4.1)\n",
            "Requirement already satisfied: charset-normalizer<4,>=2 in /usr/local/lib/python3.11/dist-packages (from requests<3,>=2->langchain) (3.4.2)\n",
            "Requirement already satisfied: idna<4,>=2.5 in /usr/local/lib/python3.11/dist-packages (from requests<3,>=2->langchain) (3.10)\n",
            "Requirement already satisfied: urllib3<3,>=1.21.1 in /usr/local/lib/python3.11/dist-packages (from requests<3,>=2->langchain) (2.4.0)\n",
            "Requirement already satisfied: certifi>=2017.4.17 in /usr/local/lib/python3.11/dist-packages (from requests<3,>=2->langchain) (2025.6.15)\n",
            "Requirement already satisfied: greenlet>=1 in /usr/local/lib/python3.11/dist-packages (from SQLAlchemy<3,>=1.4->langchain) (3.2.3)\n",
            "Requirement already satisfied: regex>=2022.1.18 in /usr/local/lib/python3.11/dist-packages (from tiktoken<1,>=0.7->langchain-openai) (2024.11.6)\n",
            "Requirement already satisfied: aiohappyeyeballs>=2.3.0 in /usr/local/lib/python3.11/dist-packages (from aiohttp<4.0.0,>=3.8.3->langchain-community<0.4.0,>=0.3.0->langchain-experimental) (2.6.1)\n",
            "Requirement already satisfied: aiosignal>=1.1.2 in /usr/local/lib/python3.11/dist-packages (from aiohttp<4.0.0,>=3.8.3->langchain-community<0.4.0,>=0.3.0->langchain-experimental) (1.3.2)\n",
            "Requirement already satisfied: attrs>=17.3.0 in /usr/local/lib/python3.11/dist-packages (from aiohttp<4.0.0,>=3.8.3->langchain-community<0.4.0,>=0.3.0->langchain-experimental) (25.3.0)\n",
            "Requirement already satisfied: frozenlist>=1.1.1 in /usr/local/lib/python3.11/dist-packages (from aiohttp<4.0.0,>=3.8.3->langchain-community<0.4.0,>=0.3.0->langchain-experimental) (1.7.0)\n",
            "Requirement already satisfied: multidict<7.0,>=4.5 in /usr/local/lib/python3.11/dist-packages (from aiohttp<4.0.0,>=3.8.3->langchain-community<0.4.0,>=0.3.0->langchain-experimental) (6.5.0)\n",
            "Requirement already satisfied: propcache>=0.2.0 in /usr/local/lib/python3.11/dist-packages (from aiohttp<4.0.0,>=3.8.3->langchain-community<0.4.0,>=0.3.0->langchain-experimental) (0.3.2)\n",
            "Requirement already satisfied: yarl<2.0,>=1.17.0 in /usr/local/lib/python3.11/dist-packages (from aiohttp<4.0.0,>=3.8.3->langchain-community<0.4.0,>=0.3.0->langchain-experimental) (1.20.1)\n",
            "Collecting marshmallow<4.0.0,>=3.18.0 (from dataclasses-json<0.7,>=0.5.7->langchain-community<0.4.0,>=0.3.0->langchain-experimental)\n",
            "  Downloading marshmallow-3.26.1-py3-none-any.whl.metadata (7.3 kB)\n",
            "Collecting typing-inspect<1,>=0.4.0 (from dataclasses-json<0.7,>=0.5.7->langchain-community<0.4.0,>=0.3.0->langchain-experimental)\n",
            "  Downloading typing_inspect-0.9.0-py3-none-any.whl.metadata (1.5 kB)\n",
            "Requirement already satisfied: httpcore==1.* in /usr/local/lib/python3.11/dist-packages (from httpx<1,>=0.23.0->langsmith>=0.1.17->langchain) (1.0.9)\n",
            "Requirement already satisfied: h11>=0.16 in /usr/local/lib/python3.11/dist-packages (from httpcore==1.*->httpx<1,>=0.23.0->langsmith>=0.1.17->langchain) (0.16.0)\n",
            "Requirement already satisfied: parso<0.9.0,>=0.8.4 in /usr/local/lib/python3.11/dist-packages (from jedi>=0.16->ipython>=5.3.0->pyvis) (0.8.4)\n",
            "Requirement already satisfied: ptyprocess>=0.5 in /usr/local/lib/python3.11/dist-packages (from pexpect>4.3->ipython>=5.3.0->pyvis) (0.7.0)\n",
            "Requirement already satisfied: wcwidth in /usr/local/lib/python3.11/dist-packages (from prompt-toolkit!=3.0.0,!=3.0.1,<3.1.0,>=2.0.0->ipython>=5.3.0->pyvis) (0.2.13)\n",
            "Collecting python-dotenv>=0.21.0 (from pydantic-settings<3.0.0,>=2.4.0->langchain-community<0.4.0,>=0.3.0->langchain-experimental)\n",
            "  Downloading python_dotenv-1.1.1-py3-none-any.whl.metadata (24 kB)\n",
            "Collecting mypy-extensions>=0.3.0 (from typing-inspect<1,>=0.4.0->dataclasses-json<0.7,>=0.5.7->langchain-community<0.4.0,>=0.3.0->langchain-experimental)\n",
            "  Downloading mypy_extensions-1.1.0-py3-none-any.whl.metadata (1.1 kB)\n",
            "Downloading langchain_openai-0.3.26-py3-none-any.whl (70 kB)\n",
            "\u001b[2K   \u001b[90m━━━━━━━━━━━━━━━━━━━━━━━━━━━━━━━━━━━━━━━━\u001b[0m \u001b[32m70.1/70.1 kB\u001b[0m \u001b[31m3.1 MB/s\u001b[0m eta \u001b[36m0:00:00\u001b[0m\n",
            "\u001b[?25hDownloading pyvis-0.3.2-py3-none-any.whl (756 kB)\n",
            "\u001b[2K   \u001b[90m━━━━━━━━━━━━━━━━━━━━━━━━━━━━━━━━━━━━━━━━\u001b[0m \u001b[32m756.0/756.0 kB\u001b[0m \u001b[31m20.6 MB/s\u001b[0m eta \u001b[36m0:00:00\u001b[0m\n",
            "\u001b[?25hDownloading langchain_neo4j-0.4.0-py3-none-any.whl (31 kB)\n",
            "Downloading langchain_experimental-0.3.4-py3-none-any.whl (209 kB)\n",
            "\u001b[2K   \u001b[90m━━━━━━━━━━━━━━━━━━━━━━━━━━━━━━━━━━━━━━━━\u001b[0m \u001b[32m209.2/209.2 kB\u001b[0m \u001b[31m15.9 MB/s\u001b[0m eta \u001b[36m0:00:00\u001b[0m\n",
            "\u001b[?25hDownloading neo4j-5.28.1-py3-none-any.whl (312 kB)\n",
            "\u001b[2K   \u001b[90m━━━━━━━━━━━━━━━━━━━━━━━━━━━━━━━━━━━━━━━━\u001b[0m \u001b[32m312.3/312.3 kB\u001b[0m \u001b[31m22.8 MB/s\u001b[0m eta \u001b[36m0:00:00\u001b[0m\n",
            "\u001b[?25hDownloading langchain_community-0.3.26-py3-none-any.whl (2.5 MB)\n",
            "\u001b[2K   \u001b[90m━━━━━━━━━━━━━━━━━━━━━━━━━━━━━━━━━━━━━━━━\u001b[0m \u001b[32m2.5/2.5 MB\u001b[0m \u001b[31m63.8 MB/s\u001b[0m eta \u001b[36m0:00:00\u001b[0m\n",
            "\u001b[?25hDownloading neo4j_graphrag-1.7.0-py3-none-any.whl (180 kB)\n",
            "\u001b[2K   \u001b[90m━━━━━━━━━━━━━━━━━━━━━━━━━━━━━━━━━━━━━━━━\u001b[0m \u001b[32m180.4/180.4 kB\u001b[0m \u001b[31m14.3 MB/s\u001b[0m eta \u001b[36m0:00:00\u001b[0m\n",
            "\u001b[?25hDownloading dataclasses_json-0.6.7-py3-none-any.whl (28 kB)\n",
            "Downloading fsspec-2024.12.0-py3-none-any.whl (183 kB)\n",
            "\u001b[2K   \u001b[90m━━━━━━━━━━━━━━━━━━━━━━━━━━━━━━━━━━━━━━━━\u001b[0m \u001b[32m183.9/183.9 kB\u001b[0m \u001b[31m14.0 MB/s\u001b[0m eta \u001b[36m0:00:00\u001b[0m\n",
            "\u001b[?25hDownloading httpx_sse-0.4.1-py3-none-any.whl (8.1 kB)\n",
            "Downloading jedi-0.19.2-py2.py3-none-any.whl (1.6 MB)\n",
            "\u001b[2K   \u001b[90m━━━━━━━━━━━━━━━━━━━━━━━━━━━━━━━━━━━━━━━━\u001b[0m \u001b[32m1.6/1.6 MB\u001b[0m \u001b[31m67.4 MB/s\u001b[0m eta \u001b[36m0:00:00\u001b[0m\n",
            "\u001b[?25hDownloading json_repair-0.39.1-py3-none-any.whl (20 kB)\n",
            "Downloading pydantic_settings-2.10.1-py3-none-any.whl (45 kB)\n",
            "\u001b[2K   \u001b[90m━━━━━━━━━━━━━━━━━━━━━━━━━━━━━━━━━━━━━━━━\u001b[0m \u001b[32m45.2/45.2 kB\u001b[0m \u001b[31m3.1 MB/s\u001b[0m eta \u001b[36m0:00:00\u001b[0m\n",
            "\u001b[?25hDownloading pypdf-5.6.1-py3-none-any.whl (304 kB)\n",
            "\u001b[2K   \u001b[90m━━━━━━━━━━━━━━━━━━━━━━━━━━━━━━━━━━━━━━━━\u001b[0m \u001b[32m304.6/304.6 kB\u001b[0m \u001b[31m23.8 MB/s\u001b[0m eta \u001b[36m0:00:00\u001b[0m\n",
            "\u001b[?25hDownloading types_pyyaml-6.0.12.20250516-py3-none-any.whl (20 kB)\n",
            "Downloading marshmallow-3.26.1-py3-none-any.whl (50 kB)\n",
            "\u001b[2K   \u001b[90m━━━━━━━━━━━━━━━━━━━━━━━━━━━━━━━━━━━━━━━━\u001b[0m \u001b[32m50.9/50.9 kB\u001b[0m \u001b[31m4.1 MB/s\u001b[0m eta \u001b[36m0:00:00\u001b[0m\n",
            "\u001b[?25hDownloading python_dotenv-1.1.1-py3-none-any.whl (20 kB)\n",
            "Downloading typing_inspect-0.9.0-py3-none-any.whl (8.8 kB)\n",
            "Downloading mypy_extensions-1.1.0-py3-none-any.whl (5.0 kB)\n",
            "Installing collected packages: types-pyyaml, python-dotenv, pypdf, neo4j, mypy-extensions, marshmallow, json-repair, jedi, httpx-sse, fsspec, typing-inspect, pyvis, pydantic-settings, neo4j-graphrag, dataclasses-json, langchain-openai, langchain-neo4j, langchain-community, langchain-experimental\n",
            "  Attempting uninstall: fsspec\n",
            "    Found existing installation: fsspec 2025.3.2\n",
            "    Uninstalling fsspec-2025.3.2:\n",
            "      Successfully uninstalled fsspec-2025.3.2\n",
            "\u001b[31mERROR: pip's dependency resolver does not currently take into account all the packages that are installed. This behaviour is the source of the following dependency conflicts.\n",
            "gcsfs 2025.3.2 requires fsspec==2025.3.2, but you have fsspec 2024.12.0 which is incompatible.\n",
            "torch 2.6.0+cu124 requires nvidia-cublas-cu12==12.4.5.8; platform_system == \"Linux\" and platform_machine == \"x86_64\", but you have nvidia-cublas-cu12 12.5.3.2 which is incompatible.\n",
            "torch 2.6.0+cu124 requires nvidia-cuda-cupti-cu12==12.4.127; platform_system == \"Linux\" and platform_machine == \"x86_64\", but you have nvidia-cuda-cupti-cu12 12.5.82 which is incompatible.\n",
            "torch 2.6.0+cu124 requires nvidia-cuda-nvrtc-cu12==12.4.127; platform_system == \"Linux\" and platform_machine == \"x86_64\", but you have nvidia-cuda-nvrtc-cu12 12.5.82 which is incompatible.\n",
            "torch 2.6.0+cu124 requires nvidia-cuda-runtime-cu12==12.4.127; platform_system == \"Linux\" and platform_machine == \"x86_64\", but you have nvidia-cuda-runtime-cu12 12.5.82 which is incompatible.\n",
            "torch 2.6.0+cu124 requires nvidia-cudnn-cu12==9.1.0.70; platform_system == \"Linux\" and platform_machine == \"x86_64\", but you have nvidia-cudnn-cu12 9.3.0.75 which is incompatible.\n",
            "torch 2.6.0+cu124 requires nvidia-cufft-cu12==11.2.1.3; platform_system == \"Linux\" and platform_machine == \"x86_64\", but you have nvidia-cufft-cu12 11.2.3.61 which is incompatible.\n",
            "torch 2.6.0+cu124 requires nvidia-curand-cu12==10.3.5.147; platform_system == \"Linux\" and platform_machine == \"x86_64\", but you have nvidia-curand-cu12 10.3.6.82 which is incompatible.\n",
            "torch 2.6.0+cu124 requires nvidia-cusolver-cu12==11.6.1.9; platform_system == \"Linux\" and platform_machine == \"x86_64\", but you have nvidia-cusolver-cu12 11.6.3.83 which is incompatible.\n",
            "torch 2.6.0+cu124 requires nvidia-cusparse-cu12==12.3.1.170; platform_system == \"Linux\" and platform_machine == \"x86_64\", but you have nvidia-cusparse-cu12 12.5.1.3 which is incompatible.\n",
            "torch 2.6.0+cu124 requires nvidia-nvjitlink-cu12==12.4.127; platform_system == \"Linux\" and platform_machine == \"x86_64\", but you have nvidia-nvjitlink-cu12 12.5.82 which is incompatible.\u001b[0m\u001b[31m\n",
            "\u001b[0mSuccessfully installed dataclasses-json-0.6.7 fsspec-2024.12.0 httpx-sse-0.4.1 jedi-0.19.2 json-repair-0.39.1 langchain-community-0.3.26 langchain-experimental-0.3.4 langchain-neo4j-0.4.0 langchain-openai-0.3.26 marshmallow-3.26.1 mypy-extensions-1.1.0 neo4j-5.28.1 neo4j-graphrag-1.7.0 pydantic-settings-2.10.1 pypdf-5.6.1 python-dotenv-1.1.1 pyvis-0.3.2 types-pyyaml-6.0.12.20250516 typing-inspect-0.9.0\n"
          ]
        }
      ],
      "source": [
        "! pip install --upgrade langchain langchain-core langchain-openai pyvis langchain-neo4j langchain-experimental neo4j"
      ]
    },
    {
      "cell_type": "code",
      "source": [],
      "metadata": {
        "id": "fzNM829sBHOw"
      },
      "execution_count": 1,
      "outputs": []
    },
    {
      "cell_type": "code",
      "source": [
        "from google.colab import userdata\n",
        "import os\n",
        "os.environ[\"OPENAI_API_KEY\"] = userdata.get('OPENAI_API_KEY')"
      ],
      "metadata": {
        "id": "EICshnnOBexV"
      },
      "execution_count": 2,
      "outputs": []
    },
    {
      "cell_type": "code",
      "source": [],
      "metadata": {
        "id": "nNAteT3QBhql"
      },
      "execution_count": 2,
      "outputs": []
    },
    {
      "cell_type": "markdown",
      "source": [
        "# LLM Graph Transformer"
      ],
      "metadata": {
        "id": "UHfoZHQGCqDy"
      }
    },
    {
      "cell_type": "code",
      "source": [
        "from langchain_experimental.graph_transformers import LLMGraphTransformer\n",
        "from langchain_core.documents import Document\n",
        "from langchain_openai import ChatOpenAI"
      ],
      "metadata": {
        "id": "bF_MtM_tCs_x"
      },
      "execution_count": 3,
      "outputs": []
    },
    {
      "cell_type": "markdown",
      "source": [
        "-> The selection of the LLM model significantly influences the output by determining the accuracy and nuance of the extracted graph data."
      ],
      "metadata": {
        "id": "_ExVRk4owlK2"
      }
    },
    {
      "cell_type": "code",
      "source": [
        "llm = ChatOpenAI(temperature=0,\n",
        "                 model_name = \"gpt-4o\")"
      ],
      "metadata": {
        "id": "mTxGt51BC_1W"
      },
      "execution_count": 6,
      "outputs": []
    },
    {
      "cell_type": "code",
      "source": [
        "graph_transformer = LLMGraphTransformer(llm=llm)"
      ],
      "metadata": {
        "id": "N18TTQPEDIW_"
      },
      "execution_count": 5,
      "outputs": []
    },
    {
      "cell_type": "markdown",
      "source": [
        "## Pass in example text and examine the results."
      ],
      "metadata": {
        "id": "nhScPnFkwtcF"
      }
    },
    {
      "cell_type": "code",
      "source": [
        "text = \"\"\"\n",
        "Srinivasa Ramanujan (1887-1920) was a brilliant Indian mathematician who made significant contributions to number theory, mathematical analysis, infinite series, and continued fractions, despite limited formal education. He is celebrated for his unique mathematical insights and his ability to independently discover complex theorems.\n",
        "Early Life and Education:\n",
        "Born in Erode, Madras Presidency (now Tamil Nadu, India) on December 22, 1887.\n",
        "From a young age, he displayed exceptional mathematical talent, teaching himself advanced mathematics.\n",
        "He excelled in his early schooling, but struggled with other subjects, ultimately losing a scholarship due to his focus on mathematics.\n",
        "He encountered George Shoobridge Carr's \"Synopsis of Elementary Results in Pure and Applied Mathematics\" which became a major influence.\n",
        "Mathematical Career:\n",
        "Ramanujan independently developed numerous mathematical theorems and identities.\n",
        "His work gained recognition in India, leading to a scholarship and a grant for research.\n",
        "He traveled to England in 1914 to collaborate with the renowned mathematician G.H. Hardy at Cambridge University.\n",
        "Despite lacking formal training in modern mathematical proofs, Ramanujan's insights were groundbreaking.\n",
        "His work included contributions to the theory of numbers, elliptic functions, continued fractions, and infinite series.\n",
        "He was elected to the Royal Society of London in 1918.\n",
        "Later Life and Legacy:\n",
        "Ramanujan contracted tuberculosis in 1917.\n",
        "He returned to India in 1919 and passed away on April 26, 1920, at the age of 32.\n",
        "He left behind a rich legacy of mathematical work, including his famous \"Lost Notebook\".\n",
        "Ramanujan's story has inspired numerous books, documentaries, and movies, including \"The Man Who Knew Infinity\".\n",
        "His work continues to be studied and celebrated, with his unique mathematical contributions influencing generations of mathematicians.\n",
        "\"\"\""
      ],
      "metadata": {
        "id": "1yLVaSV3wrAi"
      },
      "execution_count": 11,
      "outputs": []
    },
    {
      "cell_type": "code",
      "source": [
        "documents = [Document(page_content=text)]\n",
        "graph_documents = await graph_transformer.aconvert_to_graph_documents(documents)"
      ],
      "metadata": {
        "id": "yqSnRmiOwzku"
      },
      "execution_count": 12,
      "outputs": []
    },
    {
      "cell_type": "markdown",
      "source": [
        "## Print the relationships."
      ],
      "metadata": {
        "id": "FthfTZ7ExFXM"
      }
    },
    {
      "cell_type": "code",
      "source": [
        "graph_documents[0]"
      ],
      "metadata": {
        "colab": {
          "base_uri": "https://localhost:8080/"
        },
        "id": "QVFRc5DrxB8K",
        "outputId": "9b2deda6-d826-42c5-a0a4-369363ef97c0"
      },
      "execution_count": 14,
      "outputs": [
        {
          "output_type": "execute_result",
          "data": {
            "text/plain": [
              "GraphDocument(nodes=[Node(id='Srinivasa Ramanujan', type='Person', properties={}), Node(id='Erode, Madras Presidency', type='Place', properties={}), Node(id='December 22, 1887', type='Date', properties={}), Node(id='George Shoobridge Carr', type='Person', properties={}), Node(id='Synopsis Of Elementary Results In Pure And Applied Mathematics', type='Book', properties={}), Node(id='India', type='Place', properties={}), Node(id='G.H. Hardy', type='Person', properties={}), Node(id='Cambridge University', type='Organization', properties={}), Node(id='Royal Society Of London', type='Organization', properties={}), Node(id='1918', type='Date', properties={}), Node(id='Tuberculosis', type='Disease', properties={}), Node(id='1917', type='Date', properties={}), Node(id='1919', type='Date', properties={}), Node(id='April 26, 1920', type='Date', properties={}), Node(id='The Man Who Knew Infinity', type='Movie', properties={}), Node(id='Lost Notebook', type='Document', properties={})], relationships=[Relationship(source=Node(id='Srinivasa Ramanujan', type='Person', properties={}), target=Node(id='Erode, Madras Presidency', type='Place', properties={}), type='BORN_IN', properties={}), Relationship(source=Node(id='Srinivasa Ramanujan', type='Person', properties={}), target=Node(id='December 22, 1887', type='Date', properties={}), type='BIRTH_DATE', properties={}), Relationship(source=Node(id='Srinivasa Ramanujan', type='Person', properties={}), target=Node(id='George Shoobridge Carr', type='Person', properties={}), type='INFLUENCED_BY', properties={}), Relationship(source=Node(id='Srinivasa Ramanujan', type='Person', properties={}), target=Node(id='Synopsis Of Elementary Results In Pure And Applied Mathematics', type='Book', properties={}), type='INFLUENCED_BY', properties={}), Relationship(source=Node(id='Srinivasa Ramanujan', type='Person', properties={}), target=Node(id='India', type='Place', properties={}), type='NATIONALITY', properties={}), Relationship(source=Node(id='Srinivasa Ramanujan', type='Person', properties={}), target=Node(id='G.H. Hardy', type='Person', properties={}), type='COLLABORATED_WITH', properties={}), Relationship(source=Node(id='Srinivasa Ramanujan', type='Person', properties={}), target=Node(id='Cambridge University', type='Organization', properties={}), type='AFFILIATED_WITH', properties={}), Relationship(source=Node(id='Srinivasa Ramanujan', type='Person', properties={}), target=Node(id='Royal Society Of London', type='Organization', properties={}), type='MEMBER_OF', properties={}), Relationship(source=Node(id='Srinivasa Ramanujan', type='Person', properties={}), target=Node(id='1918', type='Date', properties={}), type='ELECTED_DATE', properties={}), Relationship(source=Node(id='Srinivasa Ramanujan', type='Person', properties={}), target=Node(id='Tuberculosis', type='Disease', properties={}), type='CONTRACTED', properties={}), Relationship(source=Node(id='Srinivasa Ramanujan', type='Person', properties={}), target=Node(id='1917', type='Date', properties={}), type='CONTRACTED_DATE', properties={}), Relationship(source=Node(id='Srinivasa Ramanujan', type='Person', properties={}), target=Node(id='1919', type='Date', properties={}), type='RETURNED_TO_INDIA', properties={}), Relationship(source=Node(id='Srinivasa Ramanujan', type='Person', properties={}), target=Node(id='April 26, 1920', type='Date', properties={}), type='DEATH_DATE', properties={}), Relationship(source=Node(id='Srinivasa Ramanujan', type='Person', properties={}), target=Node(id='Lost Notebook', type='Document', properties={}), type='CREATED', properties={}), Relationship(source=Node(id='Srinivasa Ramanujan', type='Person', properties={}), target=Node(id='The Man Who Knew Infinity', type='Movie', properties={}), type='INSPIRED', properties={})], source=Document(metadata={}, page_content='\\nSrinivasa Ramanujan (1887-1920) was a brilliant Indian mathematician who made significant contributions to number theory, mathematical analysis, infinite series, and continued fractions, despite limited formal education. He is celebrated for his unique mathematical insights and his ability to independently discover complex theorems. \\nEarly Life and Education:\\nBorn in Erode, Madras Presidency (now Tamil Nadu, India) on December 22, 1887. \\nFrom a young age, he displayed exceptional mathematical talent, teaching himself advanced mathematics. \\nHe excelled in his early schooling, but struggled with other subjects, ultimately losing a scholarship due to his focus on mathematics. \\nHe encountered George Shoobridge Carr\\'s \"Synopsis of Elementary Results in Pure and Applied Mathematics\" which became a major influence. \\nMathematical Career:\\nRamanujan independently developed numerous mathematical theorems and identities. \\nHis work gained recognition in India, leading to a scholarship and a grant for research. \\nHe traveled to England in 1914 to collaborate with the renowned mathematician G.H. Hardy at Cambridge University. \\nDespite lacking formal training in modern mathematical proofs, Ramanujan\\'s insights were groundbreaking. \\nHis work included contributions to the theory of numbers, elliptic functions, continued fractions, and infinite series. \\nHe was elected to the Royal Society of London in 1918. \\nLater Life and Legacy:\\nRamanujan contracted tuberculosis in 1917. \\nHe returned to India in 1919 and passed away on April 26, 1920, at the age of 32. \\nHe left behind a rich legacy of mathematical work, including his famous \"Lost Notebook\". \\nRamanujan\\'s story has inspired numerous books, documentaries, and movies, including \"The Man Who Knew Infinity\". \\nHis work continues to be studied and celebrated, with his unique mathematical contributions influencing generations of mathematicians. \\n'))"
            ]
          },
          "metadata": {},
          "execution_count": 14
        }
      ]
    },
    {
      "cell_type": "code",
      "source": [
        "graph_documents[0].nodes"
      ],
      "metadata": {
        "colab": {
          "base_uri": "https://localhost:8080/"
        },
        "id": "HQj6788JxOx5",
        "outputId": "79f05fc8-e646-44fd-a082-3005263e6768"
      },
      "execution_count": 15,
      "outputs": [
        {
          "output_type": "execute_result",
          "data": {
            "text/plain": [
              "[Node(id='Srinivasa Ramanujan', type='Person', properties={}),\n",
              " Node(id='Erode, Madras Presidency', type='Place', properties={}),\n",
              " Node(id='December 22, 1887', type='Date', properties={}),\n",
              " Node(id='George Shoobridge Carr', type='Person', properties={}),\n",
              " Node(id='Synopsis Of Elementary Results In Pure And Applied Mathematics', type='Book', properties={}),\n",
              " Node(id='India', type='Place', properties={}),\n",
              " Node(id='G.H. Hardy', type='Person', properties={}),\n",
              " Node(id='Cambridge University', type='Organization', properties={}),\n",
              " Node(id='Royal Society Of London', type='Organization', properties={}),\n",
              " Node(id='1918', type='Date', properties={}),\n",
              " Node(id='Tuberculosis', type='Disease', properties={}),\n",
              " Node(id='1917', type='Date', properties={}),\n",
              " Node(id='1919', type='Date', properties={}),\n",
              " Node(id='April 26, 1920', type='Date', properties={}),\n",
              " Node(id='The Man Who Knew Infinity', type='Movie', properties={}),\n",
              " Node(id='Lost Notebook', type='Document', properties={})]"
            ]
          },
          "metadata": {},
          "execution_count": 15
        }
      ]
    },
    {
      "cell_type": "code",
      "source": [
        "graph_documents[0].relationships"
      ],
      "metadata": {
        "colab": {
          "base_uri": "https://localhost:8080/"
        },
        "id": "x5HVRZ0yxpPn",
        "outputId": "1df276e5-5d2f-42be-e0ec-0f14ca39a631"
      },
      "execution_count": 16,
      "outputs": [
        {
          "output_type": "execute_result",
          "data": {
            "text/plain": [
              "[Relationship(source=Node(id='Srinivasa Ramanujan', type='Person', properties={}), target=Node(id='Erode, Madras Presidency', type='Place', properties={}), type='BORN_IN', properties={}),\n",
              " Relationship(source=Node(id='Srinivasa Ramanujan', type='Person', properties={}), target=Node(id='December 22, 1887', type='Date', properties={}), type='BIRTH_DATE', properties={}),\n",
              " Relationship(source=Node(id='Srinivasa Ramanujan', type='Person', properties={}), target=Node(id='George Shoobridge Carr', type='Person', properties={}), type='INFLUENCED_BY', properties={}),\n",
              " Relationship(source=Node(id='Srinivasa Ramanujan', type='Person', properties={}), target=Node(id='Synopsis Of Elementary Results In Pure And Applied Mathematics', type='Book', properties={}), type='INFLUENCED_BY', properties={}),\n",
              " Relationship(source=Node(id='Srinivasa Ramanujan', type='Person', properties={}), target=Node(id='India', type='Place', properties={}), type='NATIONALITY', properties={}),\n",
              " Relationship(source=Node(id='Srinivasa Ramanujan', type='Person', properties={}), target=Node(id='G.H. Hardy', type='Person', properties={}), type='COLLABORATED_WITH', properties={}),\n",
              " Relationship(source=Node(id='Srinivasa Ramanujan', type='Person', properties={}), target=Node(id='Cambridge University', type='Organization', properties={}), type='AFFILIATED_WITH', properties={}),\n",
              " Relationship(source=Node(id='Srinivasa Ramanujan', type='Person', properties={}), target=Node(id='Royal Society Of London', type='Organization', properties={}), type='MEMBER_OF', properties={}),\n",
              " Relationship(source=Node(id='Srinivasa Ramanujan', type='Person', properties={}), target=Node(id='1918', type='Date', properties={}), type='ELECTED_DATE', properties={}),\n",
              " Relationship(source=Node(id='Srinivasa Ramanujan', type='Person', properties={}), target=Node(id='Tuberculosis', type='Disease', properties={}), type='CONTRACTED', properties={}),\n",
              " Relationship(source=Node(id='Srinivasa Ramanujan', type='Person', properties={}), target=Node(id='1917', type='Date', properties={}), type='CONTRACTED_DATE', properties={}),\n",
              " Relationship(source=Node(id='Srinivasa Ramanujan', type='Person', properties={}), target=Node(id='1919', type='Date', properties={}), type='RETURNED_TO_INDIA', properties={}),\n",
              " Relationship(source=Node(id='Srinivasa Ramanujan', type='Person', properties={}), target=Node(id='April 26, 1920', type='Date', properties={}), type='DEATH_DATE', properties={}),\n",
              " Relationship(source=Node(id='Srinivasa Ramanujan', type='Person', properties={}), target=Node(id='Lost Notebook', type='Document', properties={}), type='CREATED', properties={}),\n",
              " Relationship(source=Node(id='Srinivasa Ramanujan', type='Person', properties={}), target=Node(id='The Man Who Knew Infinity', type='Movie', properties={}), type='INSPIRED', properties={})]"
            ]
          },
          "metadata": {},
          "execution_count": 16
        }
      ]
    },
    {
      "cell_type": "code",
      "source": [],
      "metadata": {
        "id": "fkdL-Klbxt2I"
      },
      "execution_count": null,
      "outputs": []
    },
    {
      "cell_type": "markdown",
      "source": [
        "# Visualize the relationship with Pyviz."
      ],
      "metadata": {
        "id": "zCT62Ow9yiWi"
      }
    },
    {
      "cell_type": "code",
      "source": [
        "from pyvis.network import Network\n",
        "\n",
        "def visualize_graph(graph_documents):\n",
        "\n",
        "    # Create network\n",
        "    net = Network(height=\"1200px\", width=\"100%\", directed=True,\n",
        "                      notebook=False, bgcolor=\"#222222\", font_color=\"white\")\n",
        "\n",
        "    nodes = graph_documents[0].nodes\n",
        "    relationships = graph_documents[0].relationships\n",
        "\n",
        "    # Build lookup for valid nodes\n",
        "    node_dict = {node.id: node for node in nodes}\n",
        "\n",
        "    # Filter out invalid edges and collect valid node IDs\n",
        "    valid_edges = []\n",
        "    valid_node_ids = set()\n",
        "    for rel in relationships:\n",
        "        if rel.source.id in node_dict and rel.target.id in node_dict:\n",
        "            valid_edges.append(rel)\n",
        "            valid_node_ids.update([rel.source.id, rel.target.id])\n",
        "\n",
        "\n",
        "    # Track which nodes are part of any relationship\n",
        "    connected_node_ids = set()\n",
        "    for rel in relationships:\n",
        "        connected_node_ids.add(rel.source.id)\n",
        "        connected_node_ids.add(rel.target.id)\n",
        "\n",
        "    # Add valid nodes\n",
        "    for node_id in valid_node_ids:\n",
        "        node = node_dict[node_id]\n",
        "        try:\n",
        "            net.add_node(node.id, label=node.id, title=node.type, group=node.type)\n",
        "        except:\n",
        "            continue  # skip if error\n",
        "\n",
        "    # Add valid edges\n",
        "    for rel in valid_edges:\n",
        "        try:\n",
        "            net.add_edge(rel.source.id, rel.target.id, label=rel.type.lower())\n",
        "        except:\n",
        "            continue  # skip if error\n",
        "\n",
        "    # Configure physics\n",
        "    net.set_options(\"\"\"\n",
        "            {\n",
        "                \"physics\": {\n",
        "                    \"forceAtlas2Based\": {\n",
        "                        \"gravitationalConstant\": -100,\n",
        "                        \"centralGravity\": 0.01,\n",
        "                        \"springLength\": 200,\n",
        "                        \"springConstant\": 0.08\n",
        "                    },\n",
        "                    \"minVelocity\": 0.75,\n",
        "                    \"solver\": \"forceAtlas2Based\"\n",
        "                }\n",
        "            }\n",
        "            \"\"\")\n",
        "\n",
        "    output_file = \"knowledge_graph.html\"\n",
        "    net.save_graph(output_file)\n",
        "    print(f\"Graph saved to {os.path.abspath(output_file)}\")\n",
        "\n",
        "    # Try to open in browser\n",
        "    try:\n",
        "        import webbrowser\n",
        "        webbrowser.open(f\"file://{os.path.abspath(output_file)}\")\n",
        "    except:\n",
        "        print(\"Could not open browser automatically\")"
      ],
      "metadata": {
        "id": "7018b1v6yPlU"
      },
      "execution_count": 17,
      "outputs": []
    },
    {
      "cell_type": "code",
      "source": [
        "# Run the function\n",
        "visualize_graph(graph_documents)"
      ],
      "metadata": {
        "colab": {
          "base_uri": "https://localhost:8080/"
        },
        "id": "kKofLQe3ySB_",
        "outputId": "8f48fa32-8557-49e3-c94e-d3d51c991256"
      },
      "execution_count": 18,
      "outputs": [
        {
          "output_type": "stream",
          "name": "stdout",
          "text": [
            "Graph saved to /content/knowledge_graph.html\n"
          ]
        }
      ]
    },
    {
      "cell_type": "code",
      "source": [],
      "metadata": {
        "id": "sPU8rgYhySl4"
      },
      "execution_count": 18,
      "outputs": []
    },
    {
      "cell_type": "markdown",
      "source": [
        "# Extract Specific type of nodes."
      ],
      "metadata": {
        "id": "-ZiLcdYIyvvm"
      }
    },
    {
      "cell_type": "code",
      "source": [
        "allowed_nodes = ['Person', 'Place', 'Property', 'Document', 'Movie']"
      ],
      "metadata": {
        "id": "3fQTXfS0yybW"
      },
      "execution_count": 19,
      "outputs": []
    },
    {
      "cell_type": "code",
      "source": [
        "graph_transformer = LLMGraphTransformer(llm=llm,\n",
        "                                        allowed_nodes=allowed_nodes)"
      ],
      "metadata": {
        "id": "Fuk4ifQqzM5f"
      },
      "execution_count": 20,
      "outputs": []
    },
    {
      "cell_type": "code",
      "source": [
        "graph_documents = await graph_transformer.aconvert_to_graph_documents(documents)"
      ],
      "metadata": {
        "id": "zbIPI5WTzUKs"
      },
      "execution_count": 21,
      "outputs": []
    },
    {
      "cell_type": "code",
      "source": [
        "visualize_graph(graph_documents)"
      ],
      "metadata": {
        "colab": {
          "base_uri": "https://localhost:8080/"
        },
        "id": "IhM37i3ize-T",
        "outputId": "471fe396-de4c-4cc2-bb3b-ea110bb81a2d"
      },
      "execution_count": 22,
      "outputs": [
        {
          "output_type": "stream",
          "name": "stdout",
          "text": [
            "Graph saved to /content/knowledge_graph.html\n"
          ]
        }
      ]
    },
    {
      "cell_type": "code",
      "source": [],
      "metadata": {
        "id": "XeIV2LKtzi6W"
      },
      "execution_count": null,
      "outputs": []
    },
    {
      "cell_type": "markdown",
      "source": [
        "# From PDF"
      ],
      "metadata": {
        "id": "33wC41Rc3Lts"
      }
    },
    {
      "cell_type": "code",
      "source": [
        "! pip install -qU langchain_community pypdf"
      ],
      "metadata": {
        "id": "afy1Eqeo3MW1"
      },
      "execution_count": 23,
      "outputs": []
    },
    {
      "cell_type": "code",
      "source": [
        "from langchain_community.document_loaders import PyPDFLoader\n",
        "\n",
        "file_path = \"/content/Srinivasa Ramanujan.pdf\"\n",
        "loader = PyPDFLoader(file_path)"
      ],
      "metadata": {
        "id": "iwLgp2b43P27"
      },
      "execution_count": 24,
      "outputs": []
    },
    {
      "cell_type": "code",
      "source": [
        "docs = loader.load()"
      ],
      "metadata": {
        "id": "B_khiNkC3VFr"
      },
      "execution_count": 25,
      "outputs": []
    },
    {
      "cell_type": "code",
      "source": [
        "docs"
      ],
      "metadata": {
        "colab": {
          "base_uri": "https://localhost:8080/"
        },
        "id": "aiOeMenE3W40",
        "outputId": "c38535fa-ab40-4839-f9a3-f0f274722c2d"
      },
      "execution_count": 26,
      "outputs": [
        {
          "output_type": "execute_result",
          "data": {
            "text/plain": [
              "[Document(metadata={'producer': 'PyPDF', 'creator': 'Microsoft Word', 'creationdate': '2025-06-27T09:57:24+00:00', 'author': 'Office', 'moddate': '2025-06-27T09:57:24+00:00', 'source': '/content/Srinivasa Ramanujan.pdf', 'total_pages': 2, 'page': 0, 'page_label': '1'}, page_content='Life Of Srinivasa Ramanujan \\n \\nSrinivasa Ramanujan (1887-1920) was an Indian mathematician who made significant \\ncontributions to number theory, mathematical analysis, and infinite series, despite \\nhaving limited formal education. He is known for his self-taught genius and his \\ncollaboration with the British mathematician G.H. Hardy at Cambridge.  \\nHere\\'s a more detailed look at his life: \\nEarly Life and Education: \\n• Born in Erode, Tamil Nadu, India, into a poor Brahmin family.  \\n• Developed a passion for mathematics at a young age, teaching himself \\nadvanced concepts from books like \"Synopsis of Elementary Results in Pure \\nand Applied Mathematics\" .  \\n• Fell behind in other subjects due to his intense focus on mathematics, \\neventually losing his scholarship to the Government College at Kumbakonam.  \\n• Worked as a clerk while continuing his mathematical research, sending letters \\nand papers to mathematicians like Hardy.  \\nCollaboration with Hardy and Cambridge: \\n• Hardy recognized Ramanujan\\'s genius and invited him to Cambridge University \\nin 1914.  \\n• Collaborated with Hardy on various mathematical problems, including number \\ntheory and infinite series.  \\n• Published papers in English and European journals, gaining international \\nrecognition.  \\n• Became a Fellow of the Royal Society and a Fellow of Trinity College, despite \\nfacing some racist opposition.  \\nLater Life and Legacy: \\n• Contracted tuberculosis in 1917 and returned to India in 1919.  \\n• Died in Kumbakonam in 1920 at the young age of 32.  \\n• His work continues to inspire mathematicians today, with his notebooks \\ncontaining theorems and formulas that are still being studied.  \\n• His life story has been the subject of books and films, including \"The Man Who \\nKnew Infinity: A Life of the Genius Ramanujan\" .'),\n",
              " Document(metadata={'producer': 'PyPDF', 'creator': 'Microsoft Word', 'creationdate': '2025-06-27T09:57:24+00:00', 'author': 'Office', 'moddate': '2025-06-27T09:57:24+00:00', 'source': '/content/Srinivasa Ramanujan.pdf', 'total_pages': 2, 'page': 1, 'page_label': '2'}, page_content=\"Life Of Srinivasa Ramanujan \\n \\nRamanujan's story is a testament to the power of passion, perseverance, and the \\nability of the human mind to overcome obstacles and achieve greatness.  \\nWikipedia \\n \\n• Srinivasa Ramanujan | Mathematician, Biography ... - Britannica \\nMay 17, 2025 — Early life. Ramanujan's early life was unconventional for a \\nmathematician. Born into a poor Brahmin family, he had lit... \\nBritannica \\n \\n• Srinivasa Ramanujan (1887 - 1920) - Biography \\nRamanujan, on the strength of his good school work, was given a scholarship to the \\nGovernment College in Kumbakonam which he enter... \\nMacTutor History of Mathematics\")]"
            ]
          },
          "metadata": {},
          "execution_count": 26
        }
      ]
    },
    {
      "cell_type": "code",
      "source": [
        "# join with a newline (or space) between pages\n",
        "full_text = \"\\n\".join(doc.page_content for doc in docs)\n",
        "\n",
        "# now full_text is a single Python string with the entire PDF\n",
        "print(type(full_text))\n",
        "# print(full_text[:500])  # preview first 500 chars\n",
        "print(full_text)  # view the full text"
      ],
      "metadata": {
        "colab": {
          "base_uri": "https://localhost:8080/"
        },
        "id": "EpHA9mwj3XWW",
        "outputId": "aa99793f-bb7d-40ec-c95b-f0d730dd9865"
      },
      "execution_count": 32,
      "outputs": [
        {
          "output_type": "stream",
          "name": "stdout",
          "text": [
            "<class 'str'>\n",
            "Life Of Srinivasa Ramanujan \n",
            " \n",
            "Srinivasa Ramanujan (1887-1920) was an Indian mathematician who made significant \n",
            "contributions to number theory, mathematical analysis, and infinite series, despite \n",
            "having limited formal education. He is known for his self-taught genius and his \n",
            "collaboration with the British mathematician G.H. Hardy at Cambridge.  \n",
            "Here's a more detailed look at his life: \n",
            "Early Life and Education: \n",
            "• Born in Erode, Tamil Nadu, India, into a poor Brahmin family.  \n",
            "• Developed a passion for mathematics at a young age, teaching himself \n",
            "advanced concepts from books like \"Synopsis of Elementary Results in Pure \n",
            "and Applied Mathematics\" .  \n",
            "• Fell behind in other subjects due to his intense focus on mathematics, \n",
            "eventually losing his scholarship to the Government College at Kumbakonam.  \n",
            "• Worked as a clerk while continuing his mathematical research, sending letters \n",
            "and papers to mathematicians like Hardy.  \n",
            "Collaboration with Hardy and Cambridge: \n",
            "• Hardy recognized Ramanujan's genius and invited him to Cambridge University \n",
            "in 1914.  \n",
            "• Collaborated with Hardy on various mathematical problems, including number \n",
            "theory and infinite series.  \n",
            "• Published papers in English and European journals, gaining international \n",
            "recognition.  \n",
            "• Became a Fellow of the Royal Society and a Fellow of Trinity College, despite \n",
            "facing some racist opposition.  \n",
            "Later Life and Legacy: \n",
            "• Contracted tuberculosis in 1917 and returned to India in 1919.  \n",
            "• Died in Kumbakonam in 1920 at the young age of 32.  \n",
            "• His work continues to inspire mathematicians today, with his notebooks \n",
            "containing theorems and formulas that are still being studied.  \n",
            "• His life story has been the subject of books and films, including \"The Man Who \n",
            "Knew Infinity: A Life of the Genius Ramanujan\" .\n",
            "Life Of Srinivasa Ramanujan \n",
            " \n",
            "Ramanujan's story is a testament to the power of passion, perseverance, and the \n",
            "ability of the human mind to overcome obstacles and achieve greatness.  \n",
            "Wikipedia \n",
            " \n",
            "• Srinivasa Ramanujan | Mathematician, Biography ... - Britannica \n",
            "May 17, 2025 — Early life. Ramanujan's early life was unconventional for a \n",
            "mathematician. Born into a poor Brahmin family, he had lit... \n",
            "Britannica \n",
            " \n",
            "• Srinivasa Ramanujan (1887 - 1920) - Biography \n",
            "Ramanujan, on the strength of his good school work, was given a scholarship to the \n",
            "Government College in Kumbakonam which he enter... \n",
            "MacTutor History of Mathematics\n"
          ]
        }
      ]
    },
    {
      "cell_type": "code",
      "source": [
        "documents = [Document(page_content=full_text)]"
      ],
      "metadata": {
        "id": "sU7MBDEz5Jgg"
      },
      "execution_count": 33,
      "outputs": []
    },
    {
      "cell_type": "code",
      "source": [
        "documents"
      ],
      "metadata": {
        "colab": {
          "base_uri": "https://localhost:8080/"
        },
        "id": "eDcwnkel5L0J",
        "outputId": "c993b5b7-7e95-4b6c-90ad-168ba03ad815"
      },
      "execution_count": 34,
      "outputs": [
        {
          "output_type": "execute_result",
          "data": {
            "text/plain": [
              "[Document(metadata={}, page_content='Life Of Srinivasa Ramanujan \\n \\nSrinivasa Ramanujan (1887-1920) was an Indian mathematician who made significant \\ncontributions to number theory, mathematical analysis, and infinite series, despite \\nhaving limited formal education. He is known for his self-taught genius and his \\ncollaboration with the British mathematician G.H. Hardy at Cambridge.  \\nHere\\'s a more detailed look at his life: \\nEarly Life and Education: \\n• Born in Erode, Tamil Nadu, India, into a poor Brahmin family.  \\n• Developed a passion for mathematics at a young age, teaching himself \\nadvanced concepts from books like \"Synopsis of Elementary Results in Pure \\nand Applied Mathematics\" .  \\n• Fell behind in other subjects due to his intense focus on mathematics, \\neventually losing his scholarship to the Government College at Kumbakonam.  \\n• Worked as a clerk while continuing his mathematical research, sending letters \\nand papers to mathematicians like Hardy.  \\nCollaboration with Hardy and Cambridge: \\n• Hardy recognized Ramanujan\\'s genius and invited him to Cambridge University \\nin 1914.  \\n• Collaborated with Hardy on various mathematical problems, including number \\ntheory and infinite series.  \\n• Published papers in English and European journals, gaining international \\nrecognition.  \\n• Became a Fellow of the Royal Society and a Fellow of Trinity College, despite \\nfacing some racist opposition.  \\nLater Life and Legacy: \\n• Contracted tuberculosis in 1917 and returned to India in 1919.  \\n• Died in Kumbakonam in 1920 at the young age of 32.  \\n• His work continues to inspire mathematicians today, with his notebooks \\ncontaining theorems and formulas that are still being studied.  \\n• His life story has been the subject of books and films, including \"The Man Who \\nKnew Infinity: A Life of the Genius Ramanujan\" .\\nLife Of Srinivasa Ramanujan \\n \\nRamanujan\\'s story is a testament to the power of passion, perseverance, and the \\nability of the human mind to overcome obstacles and achieve greatness.  \\nWikipedia \\n \\n• Srinivasa Ramanujan | Mathematician, Biography ... - Britannica \\nMay 17, 2025 — Early life. Ramanujan\\'s early life was unconventional for a \\nmathematician. Born into a poor Brahmin family, he had lit... \\nBritannica \\n \\n• Srinivasa Ramanujan (1887 - 1920) - Biography \\nRamanujan, on the strength of his good school work, was given a scholarship to the \\nGovernment College in Kumbakonam which he enter... \\nMacTutor History of Mathematics')]"
            ]
          },
          "metadata": {},
          "execution_count": 34
        }
      ]
    },
    {
      "cell_type": "code",
      "source": [
        "graph_transformer = LLMGraphTransformer(llm=llm,\n",
        "                                        allowed_nodes=allowed_nodes)\n",
        "\n",
        "graph_documents = await graph_transformer.aconvert_to_graph_documents(documents)\n",
        "\n",
        "visualize_graph(graph_documents)"
      ],
      "metadata": {
        "colab": {
          "base_uri": "https://localhost:8080/"
        },
        "id": "ph7XJ4zs4Pnq",
        "outputId": "82ac2f07-f71c-41cd-ecd0-d7bde91dcdbc"
      },
      "execution_count": 35,
      "outputs": [
        {
          "output_type": "stream",
          "name": "stdout",
          "text": [
            "Graph saved to /content/knowledge_graph.html\n"
          ]
        }
      ]
    },
    {
      "cell_type": "code",
      "source": [],
      "metadata": {
        "id": "o_2Y2lCW4sdz"
      },
      "execution_count": null,
      "outputs": []
    }
  ]
}